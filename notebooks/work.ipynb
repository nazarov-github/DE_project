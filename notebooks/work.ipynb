{
 "cells": [
  {
   "cell_type": "markdown",
   "id": "a606f9b0-8692-4535-bb32-7d72a926d599",
   "metadata": {},
   "source": [
    "# **Импорт библиотек**"
   ]
  },
  {
   "cell_type": "code",
   "execution_count": 1,
   "id": "618a8fb9-be94-4280-8cfa-3529cad0b2b4",
   "metadata": {},
   "outputs": [],
   "source": [
    "from pyspark.sql import SparkSession, SQLContext\n",
    "import pyspark.sql.functions as F\n",
    "import logging\n",
    "import os\n",
    "from airflow.models import Variable\n",
    "from dotenv import load_dotenv\n",
    "from pyspark.sql.types import StructType, StructField, StringType, IntegerType, DoubleType, DataType\n",
    "import requests\n",
    "import json\n",
    "import boto3\n",
    "import minio\n",
    "import mimesis\n",
    "from mimesis import Person, Generic, Address, Finance, Datetime, Choice\n",
    "from mimesis.locales import Locale\n",
    "from mimesis import Code\n",
    "from mimesis.enums import TimestampFormat\n",
    "import datetime\n",
    "import logging"
   ]
  },
  {
   "cell_type": "markdown",
   "id": "1eed4665-8cf0-4867-827e-e1548f593519",
   "metadata": {},
   "source": [
    "# **Create SparkSession**"
   ]
  },
  {
   "cell_type": "code",
   "execution_count": 2,
   "id": "8e3c9bc1-27ec-4fc0-8b83-f2804e8fe0aa",
   "metadata": {},
   "outputs": [
    {
     "name": "stdout",
     "output_type": "stream",
     "text": [
      "[\u001b[34m2025-09-13T20:01:01.630+0000\u001b[0m] {\u001b[34m176353067.py:\u001b[0m31} INFO\u001b[0m - SparkSession успешно создана для работы с MinIO\u001b[0m\n"
     ]
    }
   ],
   "source": [
    "# Настройка логирования\n",
    "logging.basicConfig(\n",
    "    level=logging.INFO,\n",
    "    format='%(asctime)s - %(levelname)s - %(message)s'\n",
    ")\n",
    "\n",
    "# Загрузка и проверка переменных окружения\n",
    "load_dotenv()\n",
    "\n",
    "try:\n",
    "    # Создание SparkSession\n",
    "    spark = SparkSession.builder \\\n",
    "        .appName(\"MinIO Data Reader\") \\\n",
    "        .config(\"spark.hadoop.fs.s3a.access.key\", os.getenv(\"MINIO_ACCESS_KEY\")) \\\n",
    "        .config(\"spark.hadoop.fs.s3a.secret.key\", os.getenv(\"MINIO_SECRET_KEY\")) \\\n",
    "        .config(\"spark.hadoop.fs.s3a.endpoint\", os.getenv(\"MINIO_ENDPOINT\")) \\\n",
    "        .config(\"spark.hadoop.fs.s3a.path.style.access\", \"true\") \\\n",
    "        .config(\"spark.hadoop.fs.s3a.connection.ssl.enabled\", \"false\") \\\n",
    "        .config(\"spark.hadoop.fs.s3a.impl\", \"org.apache.hadoop.fs.s3a.S3AFileSystem\") \\\n",
    "        .config(\"spark.hadoop.fs.s3a.aws.credentials.provider\", \"org.apache.hadoop.fs.s3a.SimpleAWSCredentialsProvider\") \\\n",
    "        .config(\"spark.jars\", \"/home/jovyan/jars/hadoop-aws-3.3.1.jar,/home/jovyan/jars/aws-java-sdk-bundle-1.11.901.jar,/home/jovyan/jars/iceberg-spark-runtime-3.5_2.12-1.5.0.jar\") \\\n",
    "        .config(\"spark.sql.catalog.nessie\", \"org.apache.iceberg.spark.SparkCatalog\") \\\n",
    "        .config(\"spark.sql.catalog.nessie.type\", \"nessie\") \\\n",
    "        .config(\"spark.sql.catalog.nessie.uri\", \"http://nessie-server:19120/api/v2\") \\\n",
    "        .config(\"spark.sql.catalog.nessie.ref\", \"main\") \\\n",
    "        .config(\"spark.sql.catalog.nessie.warehouse\", \"s3a://datalake/warehouse\") \\\n",
    "        .config(\"spark.sql.catalog.nessie.io-impl\", \"org.apache.iceberg.hadoop.HadoopFileIO\") \\\n",
    "        .getOrCreate()\n",
    "\n",
    "    \n",
    "    logging.info('SparkSession успешно создана для работы с MinIO')\n",
    "except Exception as e:\n",
    "    logging.error(f'SparkSession не создана по причине: {e}')\n"
   ]
  },
  {
   "cell_type": "markdown",
   "id": "d4c17f8d-2a51-4a92-b866-1ccb9a446a4d",
   "metadata": {},
   "source": [
    "# **Проверяем каталог Nessie**"
   ]
  },
  {
   "cell_type": "code",
   "execution_count": null,
   "id": "232c5e28-7c0e-4273-82f2-a64f28d796d4",
   "metadata": {
    "scrolled": true
   },
   "outputs": [],
   "source": [
    "spark.sql(\"SHOW NAMESPACES IN nessie\").show()"
   ]
  },
  {
   "cell_type": "markdown",
   "id": "68d65804-d08a-4f6e-8fef-2140df574242",
   "metadata": {},
   "source": [
    "# **Создаем namespace в каталоге Nessie**"
   ]
  },
  {
   "cell_type": "code",
   "execution_count": null,
   "id": "5cf58fe6-6179-44ba-a408-6adb9fd14d7d",
   "metadata": {},
   "outputs": [],
   "source": [
    "spark.sql(\"CREATE NAMESPACE IF NOT EXISTS nessie.dev\").show()"
   ]
  },
  {
   "cell_type": "code",
   "execution_count": null,
   "id": "cee448ee-df99-415e-9682-2861cc8340d7",
   "metadata": {},
   "outputs": [],
   "source": []
  },
  {
   "cell_type": "code",
   "execution_count": null,
   "id": "05a1eeef-8dd0-4923-8c9b-6ab0ba24c9da",
   "metadata": {},
   "outputs": [],
   "source": [
    "path = \"transactions.csv\"\n",
    "schema = StructType(fields=[\n",
    "        StructField(\"Customer ID\", StringType()),\n",
    "        StructField(\"Transaction Date\", StringType()),\n",
    "        StructField(\"Product Purchased\", StringType()),\n",
    "        StructField(\"Transaction Amount\", DoubleType()),\n",
    "        StructField(\"Payment Method\", StringType()),\n",
    "        StructField(\"Transaction Status\", StringType()),\n",
    "        StructField(\"Transaction Type\", StringType())\n",
    "])\n",
    "transactions_df = spark.read.csv(path, schema=schema, sep=\",\", header=True)\n",
    "transactions_df.show(10)"
   ]
  },
  {
   "cell_type": "code",
   "execution_count": null,
   "id": "35e75e89-37a9-4e89-974a-4b1e4fa817af",
   "metadata": {},
   "outputs": [],
   "source": [
    "transactions_df.printSchema()"
   ]
  },
  {
   "cell_type": "markdown",
   "id": "35f75510-7a37-4304-a7ac-10b0b0711d47",
   "metadata": {},
   "source": [
    "# **Запись в S3**"
   ]
  },
  {
   "cell_type": "code",
   "execution_count": null,
   "id": "a63958c1-7125-46a5-87ef-bfc6c5157b48",
   "metadata": {},
   "outputs": [],
   "source": [
    "output_path = \"s3a://datalake/transactions.parquet\"\n",
    "transactions_df.write.mode(\"overwrite\").parquet(output_path)"
   ]
  },
  {
   "cell_type": "markdown",
   "id": "03d5e472-421d-4a40-84d6-352d8141f5c4",
   "metadata": {},
   "source": [
    "# **Проверка файлов в бакете**"
   ]
  },
  {
   "cell_type": "code",
   "execution_count": null,
   "id": "87b22448-54bb-44b6-a652-79826cacc9e7",
   "metadata": {},
   "outputs": [],
   "source": [
    "raw_endpoint = os.getenv(\"MINIO_ENDPOINT\")\n",
    "\n",
    "if not raw_endpoint.startswith(('http://', 'https://')):\n",
    "    endpoint_url = 'http://' + raw_endpoint\n",
    "else:\n",
    "    endpoint_url = raw_endpoint\n",
    "    \n",
    "\n",
    "s3_creds = {\n",
    "    \"aws_access_key_id\": os.getenv(\"MINIO_ACCESS_KEY\"),\n",
    "    \"aws_secret_access_key\": os.getenv(\"MINIO_SECRET_KEY\"),\n",
    "    \"endpoint_url\": endpoint_url\n",
    "}\n",
    "\n",
    "s3 = boto3.client(\"s3\", **s3_creds)\n",
    "\n",
    "my_bucket = \"datalake\"\n",
    "\n",
    "response = s3.list_objects_v2(Bucket=my_bucket)\n",
    "\n",
    "for obj in response.get('Contents', []):\n",
    "    print(obj['Key'])"
   ]
  },
  {
   "cell_type": "markdown",
   "id": "661327de-d2fa-46e6-8757-9d618fe2b3b5",
   "metadata": {},
   "source": [
    "# **Чтение из S3**"
   ]
  },
  {
   "cell_type": "code",
   "execution_count": 3,
   "id": "f5e6d2ef-3f08-4096-a42e-81de6e561fee",
   "metadata": {},
   "outputs": [
    {
     "name": "stdout",
     "output_type": "stream",
     "text": [
      "+--------------------+----------------+-----------------+------------------+--------------+------------------+----------------+\n",
      "|         Customer ID|Transaction Date|Product Purchased|Transaction Amount|Payment Method|Transaction Status|Transaction Type|\n",
      "+--------------------+----------------+-----------------+------------------+--------------+------------------+----------------+\n",
      "|7810b819-f86d-498...|      2025-03-05|          quickly|417.52795241907484|          Cash|         Completed|        In-Store|\n",
      "|c1426052-e306-459...|      2025-03-19|         material|174.45190084753798|        PayPal|            Failed|          Online|\n",
      "|99a40289-d53d-4e2...|      2025-04-09|           travel|28.593285457686974|     Gift Card|            Failed|        In-Store|\n",
      "|984e8efc-9a2f-437...|      2025-02-02|              cut|  78.3398992520693|        PayPal|            Failed|        In-Store|\n",
      "|741d0bea-1f72-435...|      2025-04-13|              she| 288.2127996249924|        PayPal|           Pending|          Online|\n",
      "|6e5753ee-5274-462...|      2025-03-09|             well| 273.7100989667243|        PayPal|            Failed|        In-Store|\n",
      "|828c51d6-77d8-4b2...|      2025-05-04|            would|115.25350055667468|   Credit Card|            Failed|          Online|\n",
      "|00d18751-7ca3-43d...|      2025-02-19|             past| 258.4463878943578|     Gift Card|            Failed|        In-Store|\n",
      "|465029a4-7808-441...|      2025-05-08|         together|170.39764295066186|        PayPal|         Completed|          Online|\n",
      "|06c77832-ce8f-459...|      2025-05-08|              why|380.30639434834836|     Gift Card|            Failed|          Online|\n",
      "+--------------------+----------------+-----------------+------------------+--------------+------------------+----------------+\n",
      "only showing top 10 rows\n",
      "\n"
     ]
    }
   ],
   "source": [
    "s3_path = \"s3a://datalake/transactions.parquet/\"\n",
    "df_transactions = spark.read.parquet(s3_path)\n",
    "df_transactions.show(10)"
   ]
  },
  {
   "cell_type": "code",
   "execution_count": 4,
   "id": "e7bc979f-e11b-43d1-808a-127b8479d1c7",
   "metadata": {},
   "outputs": [
    {
     "name": "stdout",
     "output_type": "stream",
     "text": [
      "root\n",
      " |-- Customer ID: string (nullable = true)\n",
      " |-- Transaction Date: string (nullable = true)\n",
      " |-- Product Purchased: string (nullable = true)\n",
      " |-- Transaction Amount: double (nullable = true)\n",
      " |-- Payment Method: string (nullable = true)\n",
      " |-- Transaction Status: string (nullable = true)\n",
      " |-- Transaction Type: string (nullable = true)\n",
      "\n"
     ]
    }
   ],
   "source": [
    "df_transactions.printSchema()"
   ]
  },
  {
   "cell_type": "markdown",
   "id": "c3e865be-46c1-46f0-bd07-e2cc94570620",
   "metadata": {},
   "source": [
    "# **Добавим новую колонку dt с данными из колонки Transaction Date и приведем ее к типу Date**"
   ]
  },
  {
   "cell_type": "code",
   "execution_count": 5,
   "id": "9c8992a7-57a2-456d-bea8-5a6d816bfaf0",
   "metadata": {},
   "outputs": [],
   "source": [
    "new_df_transactions = df_transactions.withColumn(\"dt\", F.to_date(\"Transaction Date\", \"yyyy-MM-dd\"))"
   ]
  },
  {
   "cell_type": "code",
   "execution_count": null,
   "id": "1563a3e2-6c60-4a9b-afbc-2664a937aa82",
   "metadata": {},
   "outputs": [],
   "source": [
    "new_df_transactions.show(10)"
   ]
  },
  {
   "cell_type": "code",
   "execution_count": 6,
   "id": "257436ae-96d4-47c8-981c-edc716562114",
   "metadata": {},
   "outputs": [
    {
     "name": "stdout",
     "output_type": "stream",
     "text": [
      "root\n",
      " |-- Customer ID: string (nullable = true)\n",
      " |-- Transaction Date: string (nullable = true)\n",
      " |-- Product Purchased: string (nullable = true)\n",
      " |-- Transaction Amount: double (nullable = true)\n",
      " |-- Payment Method: string (nullable = true)\n",
      " |-- Transaction Status: string (nullable = true)\n",
      " |-- Transaction Type: string (nullable = true)\n",
      " |-- dt: date (nullable = true)\n",
      "\n"
     ]
    }
   ],
   "source": [
    "new_df_transactions.printSchema()"
   ]
  },
  {
   "cell_type": "markdown",
   "id": "9c83d91d-1d5e-4138-88e7-13bf394c41ef",
   "metadata": {},
   "source": [
    "# **Создадим новый dataframe с корректными колонками**"
   ]
  },
  {
   "cell_type": "code",
   "execution_count": 7,
   "id": "f7149542-79c7-4f72-a8de-bbe4784c1b02",
   "metadata": {},
   "outputs": [],
   "source": [
    "df_project = new_df_transactions.withColumnRenamed(\"Customer ID\", \"customer_id\") \\\n",
    "            .withColumnRenamed(\"Product Purchased\", \"product_purchased\") \\\n",
    "            .withColumnRenamed(\"Transaction Amount\", \"amount\") \\\n",
    "            .withColumnRenamed(\"Payment Method\", \"payment_method\") \\\n",
    "            .withColumnRenamed(\"Transaction Status\", \"transaction_status\") \\\n",
    "            .withColumnRenamed(\"Transaction Type\", \"transaction_type\") \\\n",
    "            .select(\"customer_id\", \"product_purchased\", \"amount\", \"payment_method\", \"transaction_status\", \"transaction_type\", \"dt\") "
   ]
  },
  {
   "cell_type": "code",
   "execution_count": 13,
   "id": "a6822154-7413-4d52-bfc4-4b7e876c98a8",
   "metadata": {},
   "outputs": [
    {
     "name": "stdout",
     "output_type": "stream",
     "text": [
      "root\n",
      " |-- customer_id: string (nullable = true)\n",
      " |-- product_purchased: string (nullable = true)\n",
      " |-- amount: double (nullable = true)\n",
      " |-- payment_method: string (nullable = true)\n",
      " |-- transaction_status: string (nullable = true)\n",
      " |-- transaction_type: string (nullable = true)\n",
      " |-- dt: date (nullable = true)\n",
      "\n"
     ]
    }
   ],
   "source": [
    "df_project.printSchema()"
   ]
  },
  {
   "cell_type": "markdown",
   "id": "7ec88cc0-aace-446e-b02b-7b2fa550c469",
   "metadata": {},
   "source": [
    "# **Приведем колонку amount к типу Decimal(18, 2)**\n",
    "\n",
    "**Деньги ≠ double. double — двоичная дробь, даёт «копеечные» погрешности (0.1+0.2≠0.3)**"
   ]
  },
  {
   "cell_type": "code",
   "execution_count": 14,
   "id": "38a370af-9583-483c-a943-74e845112556",
   "metadata": {},
   "outputs": [],
   "source": [
    "df_project = df_project.withColumn(\n",
    "                      \"amount\",\n",
    "                      F.round(F.col(\"amount\"), 2).cast(\"DECIMAL(18,2)\")\n",
    "                             )"
   ]
  },
  {
   "cell_type": "code",
   "execution_count": 15,
   "id": "8bb47cde-a22d-45b0-bbc0-52ec6e3ef8aa",
   "metadata": {},
   "outputs": [
    {
     "name": "stdout",
     "output_type": "stream",
     "text": [
      "root\n",
      " |-- customer_id: string (nullable = true)\n",
      " |-- product_purchased: string (nullable = true)\n",
      " |-- amount: decimal(18,2) (nullable = true)\n",
      " |-- payment_method: string (nullable = true)\n",
      " |-- transaction_status: string (nullable = true)\n",
      " |-- transaction_type: string (nullable = true)\n",
      " |-- dt: date (nullable = true)\n",
      "\n"
     ]
    }
   ],
   "source": [
    "df_project.printSchema()"
   ]
  },
  {
   "cell_type": "code",
   "execution_count": null,
   "id": "cc462916-1e6c-4bfb-bab8-c218f4044bf0",
   "metadata": {},
   "outputs": [],
   "source": []
  },
  {
   "cell_type": "code",
   "execution_count": 16,
   "id": "19758ebd-6cb6-498c-9729-ebd026617fe5",
   "metadata": {},
   "outputs": [
    {
     "data": {
      "text/plain": [
       "100000"
      ]
     },
     "execution_count": 16,
     "metadata": {},
     "output_type": "execute_result"
    }
   ],
   "source": [
    "df_project.count()"
   ]
  },
  {
   "cell_type": "markdown",
   "id": "7c8758ba-6b8f-4bc9-a6e7-4becb0884b92",
   "metadata": {},
   "source": [
    "# **Проверка на NULL**"
   ]
  },
  {
   "cell_type": "code",
   "execution_count": 17,
   "id": "c331784b-2a41-43f4-ab6b-e2a30eaf6018",
   "metadata": {},
   "outputs": [
    {
     "data": {
      "text/plain": [
       "100000"
      ]
     },
     "execution_count": 17,
     "metadata": {},
     "output_type": "execute_result"
    }
   ],
   "source": [
    "df_project.filter(new_df_transactions[\"dt\"].isNotNull()) \\\n",
    "                   .count()"
   ]
  },
  {
   "cell_type": "code",
   "execution_count": 18,
   "id": "a48be98a-12fd-4b2e-96b7-5c991ab7b7c0",
   "metadata": {},
   "outputs": [
    {
     "data": {
      "text/plain": [
       "0"
      ]
     },
     "execution_count": 18,
     "metadata": {},
     "output_type": "execute_result"
    }
   ],
   "source": [
    "df_project.filter(new_df_transactions[\"dt\"].isNull()) \\\n",
    "                   .count()"
   ]
  },
  {
   "cell_type": "markdown",
   "id": "edbf3711-8d7b-49d6-ad61-c222dd729cc2",
   "metadata": {},
   "source": [
    "# **MIN/MAX по дате**"
   ]
  },
  {
   "cell_type": "code",
   "execution_count": 19,
   "id": "d15b2896-86ac-4fee-b67f-b76c6a3b655d",
   "metadata": {},
   "outputs": [
    {
     "name": "stdout",
     "output_type": "stream",
     "text": [
      "+----------+\n",
      "|   min(dt)|\n",
      "+----------+\n",
      "|2025-01-01|\n",
      "+----------+\n",
      "\n"
     ]
    }
   ],
   "source": [
    "df_project.agg(F.min(\"dt\")) \\\n",
    "                   .show()"
   ]
  },
  {
   "cell_type": "code",
   "execution_count": 20,
   "id": "b3f495c7-d1c0-4c1b-8ab1-a39b90f972c4",
   "metadata": {},
   "outputs": [
    {
     "name": "stdout",
     "output_type": "stream",
     "text": [
      "+----------+\n",
      "|   max(dt)|\n",
      "+----------+\n",
      "|2025-05-18|\n",
      "+----------+\n",
      "\n"
     ]
    }
   ],
   "source": [
    "df_project.agg(F.max(\"dt\")) \\\n",
    "                   .show()"
   ]
  },
  {
   "cell_type": "code",
   "execution_count": 23,
   "id": "74025be9-bfe9-47d8-b6cd-25fb313cc90f",
   "metadata": {},
   "outputs": [
    {
     "name": "stdout",
     "output_type": "stream",
     "text": [
      "+----------+\n",
      "|   max(dt)|\n",
      "+----------+\n",
      "|2025-05-18|\n",
      "+----------+\n",
      "\n"
     ]
    }
   ],
   "source": [
    "df_project.agg(F.max(\"dt\")) \\\n",
    "                   .show()"
   ]
  },
  {
   "cell_type": "markdown",
   "id": "16910c49-754d-4f95-8444-1dc22d653a3d",
   "metadata": {},
   "source": [
    "# **Создание iceberg таблицы в каталоге Nessie**"
   ]
  },
  {
   "cell_type": "code",
   "execution_count": 34,
   "id": "eb7b8501-2cc3-41be-b9be-735d0538c509",
   "metadata": {},
   "outputs": [
    {
     "data": {
      "text/plain": [
       "DataFrame[]"
      ]
     },
     "execution_count": 34,
     "metadata": {},
     "output_type": "execute_result"
    }
   ],
   "source": [
    "spark.sql(\"\"\"CREATE TABLE nessie.dev.transactions_sample (\n",
    "                        customer_id VARCHAR(128), \n",
    "                        product_purchased VARCHAR(128), \n",
    "                        amount DECIMAL(18, 2), \n",
    "                        payment_method VARCHAR(128), \n",
    "                        transaction_status VARCHAR(128), \n",
    "                        transaction_type VARCHAR(128), \n",
    "                        dt DATE\n",
    "                        )\n",
    "            USING iceberg \n",
    "            PARTITIONED BY (months(dt));\n",
    "\"\"\")"
   ]
  },
  {
   "cell_type": "markdown",
   "id": "30a63dc8-e905-44c7-86b0-de7a79ae58af",
   "metadata": {},
   "source": [
    "# **Вывести список таблиц из каталога**"
   ]
  },
  {
   "cell_type": "code",
   "execution_count": 38,
   "id": "d1089ad7-1c8e-49e1-a962-0eb93822782d",
   "metadata": {},
   "outputs": [
    {
     "name": "stdout",
     "output_type": "stream",
     "text": [
      "+---------+-------------------+-----------+\n",
      "|namespace|          tableName|isTemporary|\n",
      "+---------+-------------------+-----------+\n",
      "|      dev|transactions_sample|      false|\n",
      "+---------+-------------------+-----------+\n",
      "\n"
     ]
    }
   ],
   "source": [
    "spark.sql(\"SHOW TABLES IN nessie\").show()"
   ]
  },
  {
   "cell_type": "markdown",
   "id": "121bc710-9503-457f-87d4-63d45b302500",
   "metadata": {},
   "source": [
    "# **Описание таблицы**"
   ]
  },
  {
   "cell_type": "code",
   "execution_count": 36,
   "id": "0009680a-3b38-41a1-9c41-76287ac2e221",
   "metadata": {},
   "outputs": [
    {
     "name": "stdout",
     "output_type": "stream",
     "text": [
      "+------------------+-------------+-------+\n",
      "|          col_name|    data_type|comment|\n",
      "+------------------+-------------+-------+\n",
      "|       customer_id|       string|   NULL|\n",
      "| product_purchased|       string|   NULL|\n",
      "|            amount|decimal(18,2)|   NULL|\n",
      "|    payment_method|       string|   NULL|\n",
      "|transaction_status|       string|   NULL|\n",
      "|  transaction_type|       string|   NULL|\n",
      "|                dt|         date|   NULL|\n",
      "|                  |             |       |\n",
      "|    # Partitioning|             |       |\n",
      "|            Part 0|   months(dt)|       |\n",
      "+------------------+-------------+-------+\n",
      "\n"
     ]
    }
   ],
   "source": [
    "spark.sql(\"DESCRIBE TABLE nessie.dev.transactions_sample\").show()"
   ]
  },
  {
   "cell_type": "markdown",
   "id": "2b6d28e4-e27e-4625-bbac-f2ed181f741b",
   "metadata": {},
   "source": [
    "# **Запрос на вывод 10 строк**"
   ]
  },
  {
   "cell_type": "code",
   "execution_count": 39,
   "id": "910d39b7-7544-49aa-9077-6c3322e6fd37",
   "metadata": {},
   "outputs": [
    {
     "name": "stdout",
     "output_type": "stream",
     "text": [
      "+--------------------+-----------------+------+--------------+------------------+----------------+----------+\n",
      "|         customer_id|product_purchased|amount|payment_method|transaction_status|transaction_type|        dt|\n",
      "+--------------------+-----------------+------+--------------+------------------+----------------+----------+\n",
      "|99a40289-d53d-4e2...|           travel| 28.59|     Gift Card|            Failed|        In-Store|2025-04-09|\n",
      "|741d0bea-1f72-435...|              she|288.21|        PayPal|           Pending|          Online|2025-04-13|\n",
      "|dfb6d83a-db02-456...|           summer|161.91|     Gift Card|         Completed|          Online|2025-04-02|\n",
      "|45850d77-4b5e-482...|       throughout| 49.26|     Gift Card|         Completed|        In-Store|2025-04-13|\n",
      "|c028e4e4-8e02-4dc...|         position| 69.25|     Gift Card|         Completed|        In-Store|2025-04-24|\n",
      "|3e4b0167-c762-4f2...|           really|164.42|     Gift Card|            Failed|        In-Store|2025-04-23|\n",
      "|075f43b2-b4a0-462...|             next|343.68|   Credit Card|            Failed|          Online|2025-04-29|\n",
      "|8e12de91-3023-46d...|            visit|403.94|          Cash|         Completed|        In-Store|2025-04-11|\n",
      "|9c871f58-7db8-482...|             wide| 72.34|        PayPal|         Completed|          Online|2025-04-10|\n",
      "|57f5ff50-f573-40b...|           option| 45.32|          Cash|           Pending|        In-Store|2025-04-02|\n",
      "+--------------------+-----------------+------+--------------+------------------+----------------+----------+\n",
      "\n"
     ]
    }
   ],
   "source": [
    "spark.sql(\"SELECT * FROM nessie.dev.transactions_sample LIMIT 10\").show()"
   ]
  },
  {
   "cell_type": "markdown",
   "id": "efc86780-9c56-4e84-86f7-a03e84c7e30e",
   "metadata": {},
   "source": [
    "# **Расширенное описание таблицы**"
   ]
  },
  {
   "cell_type": "code",
   "execution_count": 42,
   "id": "31313976-b0c9-4948-ac47-8e8fa864cdae",
   "metadata": {},
   "outputs": [
    {
     "name": "stdout",
     "output_type": "stream",
     "text": [
      "+----------------------------+------------------------------+-------+\n",
      "|col_name                    |data_type                     |comment|\n",
      "+----------------------------+------------------------------+-------+\n",
      "|customer_id                 |string                        |NULL   |\n",
      "|product_purchased           |string                        |NULL   |\n",
      "|amount                      |decimal(18,2)                 |NULL   |\n",
      "|payment_method              |string                        |NULL   |\n",
      "|transaction_status          |string                        |NULL   |\n",
      "|transaction_type            |string                        |NULL   |\n",
      "|dt                          |date                          |NULL   |\n",
      "|                            |                              |       |\n",
      "|# Partitioning              |                              |       |\n",
      "|Part 0                      |months(dt)                    |       |\n",
      "|                            |                              |       |\n",
      "|# Metadata Columns          |                              |       |\n",
      "|_spec_id                    |int                           |       |\n",
      "|_partition                  |struct<dt_month:int>          |       |\n",
      "|_file                       |string                        |       |\n",
      "|_pos                        |bigint                        |       |\n",
      "|_deleted                    |boolean                       |       |\n",
      "|                            |                              |       |\n",
      "|# Detailed Table Information|                              |       |\n",
      "|Name                        |nessie.dev.transactions_sample|       |\n",
      "+----------------------------+------------------------------+-------+\n",
      "only showing top 20 rows\n",
      "\n"
     ]
    }
   ],
   "source": [
    "spark.sql(\"DESCRIBE TABLE EXTENDED nessie.dev.transactions_sample\").show(truncate=False)"
   ]
  },
  {
   "cell_type": "markdown",
   "id": "68a31708-0665-4906-8b42-a1d4dbebece2",
   "metadata": {},
   "source": [
    "# **Вывод местонахождения файла в Minio**"
   ]
  },
  {
   "cell_type": "code",
   "execution_count": 43,
   "id": "1978e114-f558-46da-b9e4-640c4969b3ab",
   "metadata": {},
   "outputs": [
    {
     "name": "stdout",
     "output_type": "stream",
     "text": [
      "+--------+-------------------------------------------------------------------------------------+-------+\n",
      "|col_name|data_type                                                                            |comment|\n",
      "+--------+-------------------------------------------------------------------------------------+-------+\n",
      "|Location|s3a://datalake/warehouse/dev/transactions_sample_321b4108-d636-454b-b042-43089ef68347|       |\n",
      "+--------+-------------------------------------------------------------------------------------+-------+\n",
      "\n"
     ]
    }
   ],
   "source": [
    "spark.sql(\"\"\"\n",
    "  DESCRIBE TABLE EXTENDED nessie.dev.transactions_sample\n",
    "\"\"\").where(\"col_name = 'Location'\").show(truncate=False)"
   ]
  },
  {
   "cell_type": "code",
   "execution_count": 45,
   "id": "0b05f3e4-bac7-41c6-a9c3-18c5161c5572",
   "metadata": {},
   "outputs": [
    {
     "name": "stdout",
     "output_type": "stream",
     "text": [
      "+-------------------------------------------------------------------------------------------------------------------------------------------------------------------------+\n",
      "|file_path                                                                                                                                                                |\n",
      "+-------------------------------------------------------------------------------------------------------------------------------------------------------------------------+\n",
      "|s3a://datalake/warehouse/dev/transactions_sample_321b4108-d636-454b-b042-43089ef68347/data/dt_month=2025-04/00000-29-60365a04-4349-491d-a040-06b910f34491-0-00001.parquet|\n",
      "|s3a://datalake/warehouse/dev/transactions_sample_321b4108-d636-454b-b042-43089ef68347/data/dt_month=2025-01/00001-30-60365a04-4349-491d-a040-06b910f34491-0-00001.parquet|\n",
      "|s3a://datalake/warehouse/dev/transactions_sample_321b4108-d636-454b-b042-43089ef68347/data/dt_month=2025-05/00002-31-60365a04-4349-491d-a040-06b910f34491-0-00001.parquet|\n",
      "|s3a://datalake/warehouse/dev/transactions_sample_321b4108-d636-454b-b042-43089ef68347/data/dt_month=2025-02/00003-32-60365a04-4349-491d-a040-06b910f34491-0-00001.parquet|\n",
      "|s3a://datalake/warehouse/dev/transactions_sample_321b4108-d636-454b-b042-43089ef68347/data/dt_month=2025-03/00004-33-60365a04-4349-491d-a040-06b910f34491-0-00001.parquet|\n",
      "+-------------------------------------------------------------------------------------------------------------------------------------------------------------------------+\n",
      "\n"
     ]
    }
   ],
   "source": [
    "spark.sql(\"SELECT file_path FROM nessie.dev.transactions_sample.files LIMIT 5\").show(truncate=False)"
   ]
  },
  {
   "cell_type": "markdown",
   "id": "fcb7da01-9da1-4434-baca-57a042494f6b",
   "metadata": {},
   "source": [
    "# **Удалить таблицу из каталога**"
   ]
  },
  {
   "cell_type": "code",
   "execution_count": 33,
   "id": "8e5ea455-58c6-4463-b96b-819dff3b49fc",
   "metadata": {},
   "outputs": [
    {
     "name": "stdout",
     "output_type": "stream",
     "text": [
      "++\n",
      "||\n",
      "++\n",
      "++\n",
      "\n"
     ]
    }
   ],
   "source": [
    "spark.sql(\"DROP TABLE nessie.dev.transactions_sample\").show()"
   ]
  },
  {
   "cell_type": "markdown",
   "id": "9173e73f-b564-4de4-af66-3471bb0aff1a",
   "metadata": {},
   "source": [
    "# **Проверка ветки каталога**"
   ]
  },
  {
   "cell_type": "code",
   "execution_count": null,
   "id": "06540ca1-119b-42aa-8bb0-fa1a64ceecf0",
   "metadata": {},
   "outputs": [],
   "source": [
    "spark.conf.get(\"spark.sql.catalog.nessie.ref\", \"UNSET\")"
   ]
  },
  {
   "cell_type": "markdown",
   "id": "0f0e00dd-71cd-4ab8-bda2-50b2ecc5e3af",
   "metadata": {},
   "source": [
    "# **Запись dataframe в Iceberg таблицу**"
   ]
  },
  {
   "cell_type": "code",
   "execution_count": 37,
   "id": "437ad9ac-1d84-4105-b89e-3f0ceff07daa",
   "metadata": {},
   "outputs": [],
   "source": [
    "df_project.writeTo(\"nessie.dev.transactions_sample\").append()"
   ]
  },
  {
   "cell_type": "markdown",
   "id": "15665080-4131-4780-b0c4-34e557baf325",
   "metadata": {},
   "source": [
    "# **Проверить список Jars**"
   ]
  },
  {
   "cell_type": "code",
   "execution_count": null,
   "id": "2950bab5-0ba8-4c72-b98d-e9cd305ac048",
   "metadata": {},
   "outputs": [],
   "source": [
    "print(spark.sparkContext._jsc.sc().listJars())"
   ]
  },
  {
   "cell_type": "markdown",
   "id": "e1dc9580-dea3-4478-8578-308f41e337e0",
   "metadata": {},
   "source": [
    "# **Узнать версию Hadoop-клиента**"
   ]
  },
  {
   "cell_type": "code",
   "execution_count": null,
   "id": "c036d2e0-ed2d-4f87-b291-9d11ebae2912",
   "metadata": {},
   "outputs": [],
   "source": [
    "print(spark.sparkContext._jvm.org.apache.hadoop.util.VersionInfo.getVersion())"
   ]
  },
  {
   "cell_type": "code",
   "execution_count": null,
   "id": "7a372789-01fc-44aa-bbf3-a45a89bb81fd",
   "metadata": {},
   "outputs": [],
   "source": []
  }
 ],
 "metadata": {
  "kernelspec": {
   "display_name": "Python 3 (ipykernel)",
   "language": "python",
   "name": "python3"
  },
  "language_info": {
   "codemirror_mode": {
    "name": "ipython",
    "version": 3
   },
   "file_extension": ".py",
   "mimetype": "text/x-python",
   "name": "python",
   "nbconvert_exporter": "python",
   "pygments_lexer": "ipython3",
   "version": "3.11.6"
  }
 },
 "nbformat": 4,
 "nbformat_minor": 5
}
