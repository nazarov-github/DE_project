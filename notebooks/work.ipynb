{
 "cells": [
  {
   "cell_type": "markdown",
   "id": "a606f9b0-8692-4535-bb32-7d72a926d599",
   "metadata": {},
   "source": [
    "# **Импорт библиотек**"
   ]
  },
  {
   "cell_type": "code",
   "execution_count": 1,
   "id": "618a8fb9-be94-4280-8cfa-3529cad0b2b4",
   "metadata": {},
   "outputs": [],
   "source": [
    "from pyspark.sql import SparkSession, SQLContext\n",
    "import pyspark.sql.functions as F\n",
    "import logging\n",
    "import os\n",
    "from airflow.models import Variable\n",
    "from dotenv import load_dotenv\n",
    "from pyspark.sql.types import StructType, StructField, StringType, IntegerType, DoubleType, DataType\n",
    "import requests\n",
    "import json\n",
    "import boto3\n",
    "import minio\n",
    "import mimesis\n",
    "from mimesis import Person, Generic, Address, Finance, Datetime, Choice\n",
    "from mimesis.locales import Locale\n",
    "from mimesis import Code\n",
    "from mimesis.enums import TimestampFormat\n",
    "import datetime\n",
    "import logging"
   ]
  },
  {
   "cell_type": "markdown",
   "id": "1eed4665-8cf0-4867-827e-e1548f593519",
   "metadata": {},
   "source": [
    "# **Create SparkSession**"
   ]
  },
  {
   "cell_type": "code",
   "execution_count": 2,
   "id": "8e3c9bc1-27ec-4fc0-8b83-f2804e8fe0aa",
   "metadata": {},
   "outputs": [
    {
     "name": "stdout",
     "output_type": "stream",
     "text": [
      "[\u001b[34m2025-09-08T20:57:17.742+0000\u001b[0m] {\u001b[34m176353067.py:\u001b[0m31} INFO\u001b[0m - SparkSession успешно создана для работы с MinIO\u001b[0m\n"
     ]
    }
   ],
   "source": [
    "# Настройка логирования\n",
    "logging.basicConfig(\n",
    "    level=logging.INFO,\n",
    "    format='%(asctime)s - %(levelname)s - %(message)s'\n",
    ")\n",
    "\n",
    "# Загрузка и проверка переменных окружения\n",
    "load_dotenv()\n",
    "\n",
    "try:\n",
    "    # Создание SparkSession\n",
    "    spark = SparkSession.builder \\\n",
    "        .appName(\"MinIO Data Reader\") \\\n",
    "        .config(\"spark.hadoop.fs.s3a.access.key\", os.getenv(\"MINIO_ACCESS_KEY\")) \\\n",
    "        .config(\"spark.hadoop.fs.s3a.secret.key\", os.getenv(\"MINIO_SECRET_KEY\")) \\\n",
    "        .config(\"spark.hadoop.fs.s3a.endpoint\", os.getenv(\"MINIO_ENDPOINT\")) \\\n",
    "        .config(\"spark.hadoop.fs.s3a.path.style.access\", \"true\") \\\n",
    "        .config(\"spark.hadoop.fs.s3a.connection.ssl.enabled\", \"false\") \\\n",
    "        .config(\"spark.hadoop.fs.s3a.impl\", \"org.apache.hadoop.fs.s3a.S3AFileSystem\") \\\n",
    "        .config(\"spark.hadoop.fs.s3a.aws.credentials.provider\", \"org.apache.hadoop.fs.s3a.SimpleAWSCredentialsProvider\") \\\n",
    "        .config(\"spark.jars\", \"/home/jovyan/jars/hadoop-aws-3.3.1.jar,/home/jovyan/jars/aws-java-sdk-bundle-1.11.901.jar,/home/jovyan/jars/iceberg-spark-runtime-3.5_2.12-1.5.0.jar\") \\\n",
    "        .config(\"spark.sql.catalog.nessie\", \"org.apache.iceberg.spark.SparkCatalog\") \\\n",
    "        .config(\"spark.sql.catalog.nessie.type\", \"nessie\") \\\n",
    "        .config(\"spark.sql.catalog.nessie.uri\", \"http://nessie-server:19120/api/v2\") \\\n",
    "        .config(\"spark.sql.catalog.nessie.ref\", \"main\") \\\n",
    "        .config(\"spark.sql.catalog.nessie.warehouse\", \"s3a://datalake/warehouse\") \\\n",
    "        .config(\"spark.sql.catalog.nessie.io-impl\", \"org.apache.iceberg.hadoop.HadoopFileIO\") \\\n",
    "        .getOrCreate()\n",
    "\n",
    "    \n",
    "    logging.info('SparkSession успешно создана для работы с MinIO')\n",
    "except Exception as e:\n",
    "    logging.error(f'SparkSession не создана по причине: {e}')\n"
   ]
  },
  {
   "cell_type": "markdown",
   "id": "d4c17f8d-2a51-4a92-b866-1ccb9a446a4d",
   "metadata": {},
   "source": [
    "# **Проверяем каталог Nessie**"
   ]
  },
  {
   "cell_type": "code",
   "execution_count": 13,
   "id": "232c5e28-7c0e-4273-82f2-a64f28d796d4",
   "metadata": {
    "scrolled": true
   },
   "outputs": [
    {
     "name": "stdout",
     "output_type": "stream",
     "text": [
      "+---------+\n",
      "|namespace|\n",
      "+---------+\n",
      "|      dev|\n",
      "+---------+\n",
      "\n"
     ]
    }
   ],
   "source": [
    "spark.sql(\"SHOW NAMESPACES IN nessie\").show()"
   ]
  },
  {
   "cell_type": "markdown",
   "id": "68d65804-d08a-4f6e-8fef-2140df574242",
   "metadata": {},
   "source": [
    "# **Создаем namespace в каталоге Nessie**"
   ]
  },
  {
   "cell_type": "code",
   "execution_count": null,
   "id": "5cf58fe6-6179-44ba-a408-6adb9fd14d7d",
   "metadata": {},
   "outputs": [],
   "source": [
    "spark.sql(\"CREATE NAMESPACE IF NOT EXISTS nessie.dev\").show()"
   ]
  },
  {
   "cell_type": "code",
   "execution_count": null,
   "id": "cee448ee-df99-415e-9682-2861cc8340d7",
   "metadata": {},
   "outputs": [],
   "source": []
  },
  {
   "cell_type": "code",
   "execution_count": null,
   "id": "05a1eeef-8dd0-4923-8c9b-6ab0ba24c9da",
   "metadata": {},
   "outputs": [],
   "source": [
    "path = \"transactions.csv\"\n",
    "schema = StructType(fields=[\n",
    "        StructField(\"Customer ID\", StringType()),\n",
    "        StructField(\"Transaction Date\", StringType()),\n",
    "        StructField(\"Product Purchased\", StringType()),\n",
    "        StructField(\"Transaction Amount\", DoubleType()),\n",
    "        StructField(\"Payment Method\", StringType()),\n",
    "        StructField(\"Transaction Status\", StringType()),\n",
    "        StructField(\"Transaction Type\", StringType())\n",
    "])\n",
    "transactions_df = spark.read.csv(path, schema=schema, sep=\",\", header=True)\n",
    "transactions_df.show(10)"
   ]
  },
  {
   "cell_type": "code",
   "execution_count": null,
   "id": "35e75e89-37a9-4e89-974a-4b1e4fa817af",
   "metadata": {},
   "outputs": [],
   "source": [
    "transactions_df.printSchema()"
   ]
  },
  {
   "cell_type": "markdown",
   "id": "35f75510-7a37-4304-a7ac-10b0b0711d47",
   "metadata": {},
   "source": [
    "# **Запись в S3**"
   ]
  },
  {
   "cell_type": "code",
   "execution_count": null,
   "id": "a63958c1-7125-46a5-87ef-bfc6c5157b48",
   "metadata": {},
   "outputs": [],
   "source": [
    "output_path = \"s3a://datalake/transactions.parquet\"\n",
    "transactions_df.write.mode(\"overwrite\").parquet(output_path)"
   ]
  },
  {
   "cell_type": "markdown",
   "id": "03d5e472-421d-4a40-84d6-352d8141f5c4",
   "metadata": {},
   "source": [
    "# **Проверка файлов в бакете**"
   ]
  },
  {
   "cell_type": "code",
   "execution_count": null,
   "id": "87b22448-54bb-44b6-a652-79826cacc9e7",
   "metadata": {},
   "outputs": [],
   "source": [
    "raw_endpoint = os.getenv(\"MINIO_ENDPOINT\")\n",
    "\n",
    "if not raw_endpoint.startswith(('http://', 'https://')):\n",
    "    endpoint_url = 'http://' + raw_endpoint\n",
    "else:\n",
    "    endpoint_url = raw_endpoint\n",
    "    \n",
    "\n",
    "s3_creds = {\n",
    "    \"aws_access_key_id\": os.getenv(\"MINIO_ACCESS_KEY\"),\n",
    "    \"aws_secret_access_key\": os.getenv(\"MINIO_SECRET_KEY\"),\n",
    "    \"endpoint_url\": endpoint_url\n",
    "}\n",
    "\n",
    "s3 = boto3.client(\"s3\", **s3_creds)\n",
    "\n",
    "my_bucket = \"datalake\"\n",
    "\n",
    "response = s3.list_objects_v2(Bucket=my_bucket)\n",
    "\n",
    "for obj in response.get('Contents', []):\n",
    "    print(obj['Key'])"
   ]
  },
  {
   "cell_type": "markdown",
   "id": "661327de-d2fa-46e6-8757-9d618fe2b3b5",
   "metadata": {},
   "source": [
    "# **Чтение из S3**"
   ]
  },
  {
   "cell_type": "code",
   "execution_count": 3,
   "id": "f5e6d2ef-3f08-4096-a42e-81de6e561fee",
   "metadata": {},
   "outputs": [
    {
     "name": "stdout",
     "output_type": "stream",
     "text": [
      "+--------------------+----------------+-----------------+------------------+--------------+------------------+----------------+\n",
      "|         Customer ID|Transaction Date|Product Purchased|Transaction Amount|Payment Method|Transaction Status|Transaction Type|\n",
      "+--------------------+----------------+-----------------+------------------+--------------+------------------+----------------+\n",
      "|7810b819-f86d-498...|      2025-03-05|          quickly|417.52795241907484|          Cash|         Completed|        In-Store|\n",
      "|c1426052-e306-459...|      2025-03-19|         material|174.45190084753798|        PayPal|            Failed|          Online|\n",
      "|99a40289-d53d-4e2...|      2025-04-09|           travel|28.593285457686974|     Gift Card|            Failed|        In-Store|\n",
      "|984e8efc-9a2f-437...|      2025-02-02|              cut|  78.3398992520693|        PayPal|            Failed|        In-Store|\n",
      "|741d0bea-1f72-435...|      2025-04-13|              she| 288.2127996249924|        PayPal|           Pending|          Online|\n",
      "|6e5753ee-5274-462...|      2025-03-09|             well| 273.7100989667243|        PayPal|            Failed|        In-Store|\n",
      "|828c51d6-77d8-4b2...|      2025-05-04|            would|115.25350055667468|   Credit Card|            Failed|          Online|\n",
      "|00d18751-7ca3-43d...|      2025-02-19|             past| 258.4463878943578|     Gift Card|            Failed|        In-Store|\n",
      "|465029a4-7808-441...|      2025-05-08|         together|170.39764295066186|        PayPal|         Completed|          Online|\n",
      "|06c77832-ce8f-459...|      2025-05-08|              why|380.30639434834836|     Gift Card|            Failed|          Online|\n",
      "+--------------------+----------------+-----------------+------------------+--------------+------------------+----------------+\n",
      "only showing top 10 rows\n",
      "\n"
     ]
    }
   ],
   "source": [
    "s3_path = \"s3a://datalake/transactions.parquet/\"\n",
    "df_transactions = spark.read.parquet(s3_path)\n",
    "df_transactions.show(10)"
   ]
  },
  {
   "cell_type": "code",
   "execution_count": null,
   "id": "e7bc979f-e11b-43d1-808a-127b8479d1c7",
   "metadata": {},
   "outputs": [],
   "source": [
    "df_transactions.printSchema()"
   ]
  },
  {
   "cell_type": "markdown",
   "id": "c3e865be-46c1-46f0-bd07-e2cc94570620",
   "metadata": {},
   "source": [
    "# **Добавим новую колонку dt с данными из колонки Transaction Date и приведем ее к типу Date**"
   ]
  },
  {
   "cell_type": "code",
   "execution_count": 4,
   "id": "9c8992a7-57a2-456d-bea8-5a6d816bfaf0",
   "metadata": {},
   "outputs": [],
   "source": [
    "new_df_transactions = df_transactions.withColumn(\"dt\", F.to_date(\"Transaction Date\", \"yyyy-MM-dd\"))"
   ]
  },
  {
   "cell_type": "code",
   "execution_count": 5,
   "id": "1563a3e2-6c60-4a9b-afbc-2664a937aa82",
   "metadata": {},
   "outputs": [
    {
     "name": "stdout",
     "output_type": "stream",
     "text": [
      "+--------------------+----------------+-----------------+------------------+--------------+------------------+----------------+----------+\n",
      "|         Customer ID|Transaction Date|Product Purchased|Transaction Amount|Payment Method|Transaction Status|Transaction Type|        dt|\n",
      "+--------------------+----------------+-----------------+------------------+--------------+------------------+----------------+----------+\n",
      "|7810b819-f86d-498...|      2025-03-05|          quickly|417.52795241907484|          Cash|         Completed|        In-Store|2025-03-05|\n",
      "|c1426052-e306-459...|      2025-03-19|         material|174.45190084753798|        PayPal|            Failed|          Online|2025-03-19|\n",
      "|99a40289-d53d-4e2...|      2025-04-09|           travel|28.593285457686974|     Gift Card|            Failed|        In-Store|2025-04-09|\n",
      "|984e8efc-9a2f-437...|      2025-02-02|              cut|  78.3398992520693|        PayPal|            Failed|        In-Store|2025-02-02|\n",
      "|741d0bea-1f72-435...|      2025-04-13|              she| 288.2127996249924|        PayPal|           Pending|          Online|2025-04-13|\n",
      "|6e5753ee-5274-462...|      2025-03-09|             well| 273.7100989667243|        PayPal|            Failed|        In-Store|2025-03-09|\n",
      "|828c51d6-77d8-4b2...|      2025-05-04|            would|115.25350055667468|   Credit Card|            Failed|          Online|2025-05-04|\n",
      "|00d18751-7ca3-43d...|      2025-02-19|             past| 258.4463878943578|     Gift Card|            Failed|        In-Store|2025-02-19|\n",
      "|465029a4-7808-441...|      2025-05-08|         together|170.39764295066186|        PayPal|         Completed|          Online|2025-05-08|\n",
      "|06c77832-ce8f-459...|      2025-05-08|              why|380.30639434834836|     Gift Card|            Failed|          Online|2025-05-08|\n",
      "+--------------------+----------------+-----------------+------------------+--------------+------------------+----------------+----------+\n",
      "only showing top 10 rows\n",
      "\n"
     ]
    }
   ],
   "source": [
    "new_df_transactions.show(10)"
   ]
  },
  {
   "cell_type": "code",
   "execution_count": null,
   "id": "257436ae-96d4-47c8-981c-edc716562114",
   "metadata": {},
   "outputs": [],
   "source": [
    "new_df_transactions.printSchema()"
   ]
  },
  {
   "cell_type": "code",
   "execution_count": 10,
   "id": "19758ebd-6cb6-498c-9729-ebd026617fe5",
   "metadata": {},
   "outputs": [
    {
     "data": {
      "text/plain": [
       "100000"
      ]
     },
     "execution_count": 10,
     "metadata": {},
     "output_type": "execute_result"
    }
   ],
   "source": [
    "new_df_transactions.count()"
   ]
  },
  {
   "cell_type": "markdown",
   "id": "7c8758ba-6b8f-4bc9-a6e7-4becb0884b92",
   "metadata": {},
   "source": [
    "# **Проверка на NULL**"
   ]
  },
  {
   "cell_type": "code",
   "execution_count": 8,
   "id": "c331784b-2a41-43f4-ab6b-e2a30eaf6018",
   "metadata": {},
   "outputs": [
    {
     "data": {
      "text/plain": [
       "100000"
      ]
     },
     "execution_count": 8,
     "metadata": {},
     "output_type": "execute_result"
    }
   ],
   "source": [
    "new_df_transactions.filter(new_df_transactions[\"dt\"].isNotNull()) \\\n",
    "                   .count()"
   ]
  },
  {
   "cell_type": "code",
   "execution_count": 9,
   "id": "a48be98a-12fd-4b2e-96b7-5c991ab7b7c0",
   "metadata": {},
   "outputs": [
    {
     "data": {
      "text/plain": [
       "0"
      ]
     },
     "execution_count": 9,
     "metadata": {},
     "output_type": "execute_result"
    }
   ],
   "source": [
    "new_df_transactions.filter(new_df_transactions[\"dt\"].isNull()) \\\n",
    "                   .count()"
   ]
  },
  {
   "cell_type": "markdown",
   "id": "edbf3711-8d7b-49d6-ad61-c222dd729cc2",
   "metadata": {},
   "source": [
    "# **MIN/MAX по дате**"
   ]
  },
  {
   "cell_type": "code",
   "execution_count": 6,
   "id": "d15b2896-86ac-4fee-b67f-b76c6a3b655d",
   "metadata": {},
   "outputs": [
    {
     "name": "stdout",
     "output_type": "stream",
     "text": [
      "+----------+\n",
      "|   min(dt)|\n",
      "+----------+\n",
      "|2025-01-01|\n",
      "+----------+\n",
      "\n"
     ]
    }
   ],
   "source": [
    "new_df_transactions.agg(F.min(\"dt\")) \\\n",
    "                   .show()"
   ]
  },
  {
   "cell_type": "code",
   "execution_count": 7,
   "id": "b3f495c7-d1c0-4c1b-8ab1-a39b90f972c4",
   "metadata": {},
   "outputs": [
    {
     "name": "stdout",
     "output_type": "stream",
     "text": [
      "+----------+\n",
      "|   max(dt)|\n",
      "+----------+\n",
      "|2025-05-18|\n",
      "+----------+\n",
      "\n"
     ]
    }
   ],
   "source": [
    "new_df_transactions.agg(F.max(\"dt\")) \\\n",
    "                   .show()"
   ]
  },
  {
   "cell_type": "code",
   "execution_count": null,
   "id": "74025be9-bfe9-47d8-b6cd-25fb313cc90f",
   "metadata": {},
   "outputs": [],
   "source": [
    "new_df_transactions.agg(F.max(\"Transaction Date\")) \\\n",
    "                   .show()"
   ]
  },
  {
   "cell_type": "markdown",
   "id": "cb1fe7f4-5565-43ab-84aa-9f91b2c24e8b",
   "metadata": {},
   "source": [
    "# **Проверка, что месяц в Transaction Date не равен месяцу в dt**"
   ]
  },
  {
   "cell_type": "code",
   "execution_count": 11,
   "id": "98627ef1-56d6-4695-967f-f4d13f657770",
   "metadata": {},
   "outputs": [
    {
     "name": "stdout",
     "output_type": "stream",
     "text": [
      "+-----------+----------------+-----------------+------------------+--------------+------------------+----------------+---+\n",
      "|Customer ID|Transaction Date|Product Purchased|Transaction Amount|Payment Method|Transaction Status|Transaction Type| dt|\n",
      "+-----------+----------------+-----------------+------------------+--------------+------------------+----------------+---+\n",
      "+-----------+----------------+-----------------+------------------+--------------+------------------+----------------+---+\n",
      "\n"
     ]
    }
   ],
   "source": [
    "new_df_transactions.filter(F.month(\"Transaction Date\") != F.month(\"dt\")) \\\n",
    "                   .show()"
   ]
  },
  {
   "cell_type": "markdown",
   "id": "16910c49-754d-4f95-8444-1dc22d653a3d",
   "metadata": {},
   "source": [
    "# **Создание iceberg таблицы в каталоге Nessie**"
   ]
  },
  {
   "cell_type": "code",
   "execution_count": 18,
   "id": "eb7b8501-2cc3-41be-b9be-735d0538c509",
   "metadata": {},
   "outputs": [
    {
     "data": {
      "text/plain": [
       "DataFrame[]"
      ]
     },
     "execution_count": 18,
     "metadata": {},
     "output_type": "execute_result"
    }
   ],
   "source": [
    "spark.sql(\"\"\"CREATE TABLE nessie.dev.transactions_sample (\n",
    "                        customer_id INT, \n",
    "                        transaction_date DATE, \n",
    "                        product_purchased VARCHAR(128), \n",
    "                        transaction_amount DECIMAL, \n",
    "                        payment_method VARCHAR(128), \n",
    "                        transaction_status VARCHAR(128), \n",
    "                        transaction_type VARCHAR(128), \n",
    "                        dt DATE\n",
    "                        )\n",
    "            USING iceberg \n",
    "            PARTITIONED BY (months(dt));\n",
    "\"\"\")"
   ]
  },
  {
   "cell_type": "code",
   "execution_count": 19,
   "id": "d1089ad7-1c8e-49e1-a962-0eb93822782d",
   "metadata": {},
   "outputs": [
    {
     "name": "stdout",
     "output_type": "stream",
     "text": [
      "+---------+-------------------+-----------+\n",
      "|namespace|          tableName|isTemporary|\n",
      "+---------+-------------------+-----------+\n",
      "|      dev|transactions_sample|      false|\n",
      "+---------+-------------------+-----------+\n",
      "\n"
     ]
    }
   ],
   "source": [
    "spark.sql(\"SHOW TABLES IN nessie\").show()"
   ]
  },
  {
   "cell_type": "code",
   "execution_count": 20,
   "id": "0009680a-3b38-41a1-9c41-76287ac2e221",
   "metadata": {},
   "outputs": [
    {
     "name": "stdout",
     "output_type": "stream",
     "text": [
      "+------------------+-------------+-------+\n",
      "|          col_name|    data_type|comment|\n",
      "+------------------+-------------+-------+\n",
      "|       customer_id|          int|   NULL|\n",
      "|  transaction_date|         date|   NULL|\n",
      "| product_purchased|       string|   NULL|\n",
      "|transaction_amount|decimal(10,0)|   NULL|\n",
      "|    payment_method|       string|   NULL|\n",
      "|transaction_status|       string|   NULL|\n",
      "|  transaction_type|       string|   NULL|\n",
      "|                dt|         date|   NULL|\n",
      "|                  |             |       |\n",
      "|    # Partitioning|             |       |\n",
      "|            Part 0|   months(dt)|       |\n",
      "+------------------+-------------+-------+\n",
      "\n"
     ]
    }
   ],
   "source": [
    "spark.sql(\"DESCRIBE TABLE nessie.dev.transactions_sample\").show()"
   ]
  },
  {
   "cell_type": "code",
   "execution_count": null,
   "id": "06540ca1-119b-42aa-8bb0-fa1a64ceecf0",
   "metadata": {},
   "outputs": [],
   "source": []
  },
  {
   "cell_type": "code",
   "execution_count": null,
   "id": "52803359-4b27-4762-830c-56145c1cfcc8",
   "metadata": {},
   "outputs": [],
   "source": []
  },
  {
   "cell_type": "code",
   "execution_count": null,
   "id": "437ad9ac-1d84-4105-b89e-3f0ceff07daa",
   "metadata": {},
   "outputs": [],
   "source": []
  },
  {
   "cell_type": "markdown",
   "id": "15665080-4131-4780-b0c4-34e557baf325",
   "metadata": {},
   "source": [
    "# **Проверить список Jars**"
   ]
  },
  {
   "cell_type": "code",
   "execution_count": null,
   "id": "2950bab5-0ba8-4c72-b98d-e9cd305ac048",
   "metadata": {},
   "outputs": [],
   "source": [
    "print(spark.sparkContext._jsc.sc().listJars())"
   ]
  },
  {
   "cell_type": "markdown",
   "id": "e1dc9580-dea3-4478-8578-308f41e337e0",
   "metadata": {},
   "source": [
    "# **Узнать версию Hadoop-клиента**"
   ]
  },
  {
   "cell_type": "code",
   "execution_count": null,
   "id": "c036d2e0-ed2d-4f87-b291-9d11ebae2912",
   "metadata": {},
   "outputs": [],
   "source": [
    "print(spark.sparkContext._jvm.org.apache.hadoop.util.VersionInfo.getVersion())"
   ]
  },
  {
   "cell_type": "code",
   "execution_count": null,
   "id": "7a372789-01fc-44aa-bbf3-a45a89bb81fd",
   "metadata": {},
   "outputs": [],
   "source": []
  }
 ],
 "metadata": {
  "kernelspec": {
   "display_name": "Python 3 (ipykernel)",
   "language": "python",
   "name": "python3"
  },
  "language_info": {
   "codemirror_mode": {
    "name": "ipython",
    "version": 3
   },
   "file_extension": ".py",
   "mimetype": "text/x-python",
   "name": "python",
   "nbconvert_exporter": "python",
   "pygments_lexer": "ipython3",
   "version": "3.11.6"
  }
 },
 "nbformat": 4,
 "nbformat_minor": 5
}
