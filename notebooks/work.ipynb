{
 "cells": [
  {
   "cell_type": "markdown",
   "id": "a606f9b0-8692-4535-bb32-7d72a926d599",
   "metadata": {},
   "source": [
    "# **Импорт библиотек**"
   ]
  },
  {
   "cell_type": "code",
   "execution_count": 1,
   "id": "618a8fb9-be94-4280-8cfa-3529cad0b2b4",
   "metadata": {},
   "outputs": [],
   "source": [
    "from pyspark.sql import SparkSession, SQLContext\n",
    "import pyspark.sql.functions as F\n",
    "import logging\n",
    "import os\n",
    "from airflow.models import Variable\n",
    "from dotenv import load_dotenv\n",
    "from pyspark.sql.types import StructType, StructField, StringType, IntegerType, DoubleType, DataType\n",
    "import requests\n",
    "import json\n",
    "import boto3\n",
    "import minio\n",
    "import mimesis\n",
    "from mimesis import Person, Generic, Address, Finance, Datetime, Choice\n",
    "from mimesis.locales import Locale\n",
    "from mimesis import Code\n",
    "from mimesis.enums import TimestampFormat\n",
    "import datetime\n",
    "import logging"
   ]
  },
  {
   "cell_type": "markdown",
   "id": "1eed4665-8cf0-4867-827e-e1548f593519",
   "metadata": {},
   "source": [
    "# **Create SparkSession**"
   ]
  },
  {
   "cell_type": "code",
   "execution_count": 2,
   "id": "8e3c9bc1-27ec-4fc0-8b83-f2804e8fe0aa",
   "metadata": {},
   "outputs": [
    {
     "name": "stdout",
     "output_type": "stream",
     "text": [
      "[\u001b[34m2025-08-29T23:32:46.505+0000\u001b[0m] {\u001b[34m1154948182.py:\u001b[0m31} INFO\u001b[0m - SparkSession успешно создана для работы с MinIO\u001b[0m\n"
     ]
    }
   ],
   "source": [
    "# Настройка логирования\n",
    "logging.basicConfig(\n",
    "    level=logging.INFO,\n",
    "    format='%(asctime)s - %(levelname)s - %(message)s'\n",
    ")\n",
    "\n",
    "# Загрузка и проверка переменных окружения\n",
    "load_dotenv()\n",
    "\n",
    "try:\n",
    "    # Создание SparkSession\n",
    "    spark = SparkSession.builder \\\n",
    "        .appName(\"MinIO Data Reader\") \\\n",
    "        .config(\"spark.hadoop.fs.s3a.access.key\", os.getenv(\"MINIO_ACCESS_KEY\")) \\\n",
    "        .config(\"spark.hadoop.fs.s3a.secret.key\", os.getenv(\"MINIO_SECRET_KEY\")) \\\n",
    "        .config(\"spark.hadoop.fs.s3a.endpoint\", os.getenv(\"MINIO_ENDPOINT\")) \\\n",
    "        .config(\"spark.hadoop.fs.s3a.path.style.access\", \"true\") \\\n",
    "        .config(\"spark.hadoop.fs.s3a.connection.ssl.enabled\", \"false\") \\\n",
    "        .config(\"spark.hadoop.fs.s3a.impl\", \"org.apache.hadoop.fs.s3a.S3AFileSystem\") \\\n",
    "        .config(\"spark.hadoop.fs.s3a.aws.credentials.provider\", \"org.apache.hadoop.fs.s3a.SimpleAWSCredentialsProvider\") \\\n",
    "        .config(\"spark.jars\", \"home/jovyan/jars/hadoop-aws-3.3.1.jar,/home/jovyan/jars/aws-java-sdk-bundle-1.11.901.jar,/home/jovyan/jars/iceberg-spark-runtime-3.5_2.12-1.5.0.jar\") \\\n",
    "        .config(\"spark.sql.catalog.nessie\", \"org.apache.iceberg.spark.SparkCatalog\") \\\n",
    "        .config(\"spark.sql.catalog.nessie.type\", \"nessie\") \\\n",
    "        .config(\"spark.sql.catalog.nessie.uri\", \"http://nessie-server:19120/api/v2\") \\\n",
    "        .config(\"spark.sql.catalog.nessie.ref\", \"main\") \\\n",
    "        .config(\"spark.sql.catalog.nessie.warehouse\", \"s3a://datalake/warehouse\") \\\n",
    "        .config(\"spark.sql.catalog.nessie.io-impl\", \"org.apache.iceberg.hadoop.HadoopFileIO\") \\\n",
    "        .getOrCreate()\n",
    "\n",
    "    \n",
    "    logging.info('SparkSession успешно создана для работы с MinIO')\n",
    "except Exception as e:\n",
    "    logging.error(f'SparkSession не создана по причине: {e}')\n"
   ]
  },
  {
   "cell_type": "code",
   "execution_count": 3,
   "id": "232c5e28-7c0e-4273-82f2-a64f28d796d4",
   "metadata": {},
   "outputs": [
    {
     "name": "stdout",
     "output_type": "stream",
     "text": [
      "+---------+\n",
      "|namespace|\n",
      "+---------+\n",
      "+---------+\n",
      "\n"
     ]
    }
   ],
   "source": [
    "spark.sql(\"SHOW NAMESPACES IN nessie\").show()"
   ]
  },
  {
   "cell_type": "code",
   "execution_count": null,
   "id": "05a1eeef-8dd0-4923-8c9b-6ab0ba24c9da",
   "metadata": {},
   "outputs": [],
   "source": [
    "path = \"transactions.csv\"\n",
    "schema = StructType(fields=[\n",
    "        StructField(\"Customer ID\", StringType()),\n",
    "        StructField(\"Transaction Date\", StringType()),\n",
    "        StructField(\"Product Purchased\", StringType()),\n",
    "        StructField(\"Transaction Amount\", DoubleType()),\n",
    "        StructField(\"Payment Method\", StringType()),\n",
    "        StructField(\"Transaction Status\", StringType()),\n",
    "        StructField(\"Transaction Type\", StringType())\n",
    "])\n",
    "transactions_df = spark.read.csv(path, schema=schema, sep=\",\", header=True)\n",
    "transactions_df.show(10)"
   ]
  },
  {
   "cell_type": "code",
   "execution_count": null,
   "id": "35e75e89-37a9-4e89-974a-4b1e4fa817af",
   "metadata": {},
   "outputs": [],
   "source": [
    "transactions_df.printSchema()"
   ]
  },
  {
   "cell_type": "markdown",
   "id": "35f75510-7a37-4304-a7ac-10b0b0711d47",
   "metadata": {},
   "source": [
    "# **Запись в S3**"
   ]
  },
  {
   "cell_type": "code",
   "execution_count": null,
   "id": "a63958c1-7125-46a5-87ef-bfc6c5157b48",
   "metadata": {},
   "outputs": [],
   "source": [
    "output_path = \"s3a://datalake/transactions.parquet\"\n",
    "transactions_df.write.mode(\"overwrite\").parquet(output_path)"
   ]
  },
  {
   "cell_type": "markdown",
   "id": "03d5e472-421d-4a40-84d6-352d8141f5c4",
   "metadata": {},
   "source": [
    "# **Проверка файлов в бакете**"
   ]
  },
  {
   "cell_type": "code",
   "execution_count": null,
   "id": "87b22448-54bb-44b6-a652-79826cacc9e7",
   "metadata": {},
   "outputs": [],
   "source": [
    "raw_endpoint = os.getenv(\"MINIO_ENDPOINT\")\n",
    "\n",
    "if not raw_endpoint.startswith(('http://', 'https://')):\n",
    "    endpoint_url = 'http://' + raw_endpoint\n",
    "else:\n",
    "    endpoint_url = raw_endpoint\n",
    "    \n",
    "\n",
    "s3_creds = {\n",
    "    \"aws_access_key_id\": os.getenv(\"MINIO_ACCESS_KEY\"),\n",
    "    \"aws_secret_access_key\": os.getenv(\"MINIO_SECRET_KEY\"),\n",
    "    \"endpoint_url\": endpoint_url\n",
    "}\n",
    "\n",
    "s3 = boto3.client(\"s3\", **s3_creds)\n",
    "\n",
    "my_bucket = \"datalake\"\n",
    "\n",
    "response = s3.list_objects_v2(Bucket=my_bucket)\n",
    "\n",
    "for obj in response.get('Contents', []):\n",
    "    print(obj['Key'])"
   ]
  },
  {
   "cell_type": "code",
   "execution_count": null,
   "id": "329b1a68-ec1f-4a16-af6d-154b2f687e69",
   "metadata": {},
   "outputs": [],
   "source": []
  }
 ],
 "metadata": {
  "kernelspec": {
   "display_name": "Python 3 (ipykernel)",
   "language": "python",
   "name": "python3"
  },
  "language_info": {
   "codemirror_mode": {
    "name": "ipython",
    "version": 3
   },
   "file_extension": ".py",
   "mimetype": "text/x-python",
   "name": "python",
   "nbconvert_exporter": "python",
   "pygments_lexer": "ipython3",
   "version": "3.11.6"
  }
 },
 "nbformat": 4,
 "nbformat_minor": 5
}
